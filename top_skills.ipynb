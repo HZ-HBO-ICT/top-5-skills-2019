{
 "cells": [
  {
   "cell_type": "markdown",
   "metadata": {},
   "source": [
    "# Top 5 skills van een ICT-er\n",
    "\n",
    "Wat vindt de klas van 2019-2020 de belangrijkste skills van een ICT-er om over 4 jaar geslaagd aan je carriere te kunnen beginnen? \n",
    "\n",
    "Om hierachter te komen, is een enquete uitgezet via Google Forms. Nu is het echter lastig om die antwoorden te verwerken, kijk maar eens in de cel **Alle antwoorden verzamelen**. Antwoorden als \"Drive om te blijven leren\", \"Blijven leren\", \"wil om te leren\", et cetera, betekenen allemaal hetzelfde. Maar Google ziet ze als allemaal individuele antwoorden.\n",
    "\n",
    "Natural Language Processing to the rescue! We gebruiken vandaag Python in combinatie met [Spacy](https://spacy.io/)."
   ]
  },
  {
   "cell_type": "code",
   "execution_count": 2,
   "metadata": {},
   "outputs": [],
   "source": [
    "import csv\n",
    "import spacy\n",
    "import string"
   ]
  },
  {
   "cell_type": "markdown",
   "metadata": {},
   "source": [
    "## Alle antwoorden verzamelen"
   ]
  },
  {
   "cell_type": "code",
   "execution_count": 3,
   "metadata": {
    "scrolled": true
   },
   "outputs": [
    {
     "name": "stdout",
     "output_type": "stream",
     "text": [
      "['Timestamp', 'Skill 1', 'Skill 2', 'Skill 3', 'Skill 4', 'Skill 5']\n",
      "['Kennis programmeertaal ', 'Werking van een computer', 'Logisch nadenken', 'Probleemoplossend denken', 'Vooruitdenken ', 'Problem Solving', 'Drive om te blijven leren', 'Drive om te innoveren', 'Motivatie om in een veranderend veld te werken', 'Passie', 'Computational thinking', 'Innovatie willen volgen (leren) ', 'Sociaal zijn', 'De wil om anderen te helpen', 'De will om nieuwe dingen uit te voeren', 'Cognitivisme', 'Analytisch ', 'Doorzettingsvermogen', 'Flexibel', 'Samenwerking', 'geduld', 'overzicht', 'problem solving', 'samenwerking', 'kennis vakgebied', 'Programmeren', 'Presenteren', 'Logisch denken', 'Samenwerken', 'Werking van computer weten', 'probleem oplossend vermogen', 'logisch nadenken', 'flexibel werken, ALTIJD AANPASBAAR.', 'stress aan kunnen', 'engels praten, schrijven lezen.', 'Je moet kunnen programmeren', 'Creativiteit', 'Kennis in je vakgebied', 'Engels', 'Doorzettingsvermogen als je je code niet aan de praat krijgt', 'Programmer Kennis', 'Flexibel denken', 'type skills I guess', 'Engels ', 'social skills', 'Flexibiliteit', 'Meegaan met ICT trends', 'Kunnen samenwerken in groepsverband', 'Genoeg sociale skills hebben om met bedrijven overweg te kunnen.', 'Mee zijn met de laatste programmeertaal.', 'Probleem oplossend denken', 'Teamwork', 'Communicatie', 'Conceptueel werken', 'Vooruit denken', 'Logisch Nadenken', 'Flexiebel zijn', 'Programmeertalen kunnen leren', 'Sociaal zijn, met bijv. een klant', 'Goed kunnen omgaan met een computer', 'Samenwerkend', 'Niet verlegen', 'Inzet', 'Durven', 'Tijd, veel tijd', 'Programmeren', 'Creatief zijn', 'Computers begrijpen', 'innoveren', 'websites bouwen', 'Aanpasbaarheid', 'Mogelijkheid om snel te leren', 'Logisch denkvermogen/wiskundige vaardigheden', 'Hardnekkig zijn en niet snel opgeven', 'Goed met stress kunnen omgaan', 'Flexibiliteit', 'Kennis van programmeren', 'Snel nieuwe programmeertalen leren', 'Socialiseren', 'Engels', 'Motivation', 'Mindset for innovation', 'Adaptable ', 'Fast learner', 'Teamwork', 'Leergierigheid', 'Analytisch denken', 'Integriteit', 'Projectmatig werken', 'Flexibiliteit', 'Issue solving', 'Programming basics', 'Communicatie', 'Teamwork', 'Genoeg slaap', 'AI programmeren', 'Veel kennis van programmeertalen', 'Mee gaan met de tijd', 'lang door kunnen werken', 'Clean code kunnen schrijven', 'Nieuwsgierigheid', 'Kunnen omgaan met een computer', 'Verschillende programeertalen', 'Zich aan kunnen passen aan verandering', 'Beheersing van de Engelse taal', 'Doorzettingsvermogen', 'Prestatiegericht', 'Flexibel', 'Ruimdenkend', 'Analytish', 'samenwerken', 'programmeren', 'in kunnen schatten wat waar nodig is', 'Vernieuwen', 'Applicaties in elkaar flansen met zo min mogelijk code', 'Innovatief', 'Doorzettingsvermogen', 'beheersen van verschillende programmeertalen', 'geduldig', 'creatief', 'flexibel ', 'leergierig', 'goed doorzettingsvermogen ', 'basis van programmeer concepten', 'logisch kunnen nadenken ', 'snel leren', 'google goed gebruiken', 'logisch stapsgewijs denken', 'meerdere programmeertalen kunnen', 'snel type', 'Engels', 'Gezond verstand', 'Basis rekenen', 'Programmeertalen begrijpen', 'Inzicht', 'Werken in groepen', 'Goed leesbare code schrijven', 'Kunnen programmeren in verschillende programmeertalen (dus niet specialiseren in één programmeertaal)', 'Hoe je dingen op het internet opzoekt (stackoverflow, etc.)', 'weten hoe kunstmatige intelligentie werkt en dit ook toepassen.', 'Werkprocessen analyseren', 'Automatiseren van proccessen', 'Zelfstandig leren', 'Comuniceren', 'Met computers om kunnen gaan', 'Samenwerken', 'nieuwe kennis leren', 'open staan voor kritiek ', 'aanpasbaar', 'vele codeer talen kennen en leren', 'aanpassings vermogen', 'verstand van de Engelse taal', 'kennis van rekenen(niet wiskunde)', 'positieve mindset', 'doorzettingsvermogen', 'aanpasbaar', 'doorzetten', 'commente', 'zoeken', 'werken', 'De basis van het vak', 'Basis van verschillende programmeertalen zodat als het ene bedrijf dit gebruikt en het andere bedrijf iets anders dat je er gemakkelijker in kan rollen', 'creativiteit', 'probleemgerichte oplossingen kunnen vinden en toepassen', 'met de tijd mee gaan. (niet blijven hangen, want je gaat achterlopen)', 'hardwerkend', 'doorzettingsvermogen', 'ambitieus', 'creatief', 'innovatief', 'Onder druk kunnen werken.', 'Ervaring met verschillende talen.', 'Probleem oplossend kunnen denken.', 'Graag nieuwe dingen willen leren.', 'Weten hoe je iets moet aanpakken.', 'Programmeertaal goed beheerse en jezelf kunnen aanpassen aan andere programeertalen. ', 'Goede communicatie houden met andere programeurs ', 'Blijven leren want de ict verandert snel', 'Genieten van het feit dat je alles kan maken met een computer.', 'Goed zijn met Google want je zult veel moeten opzoeken...', 'Ability to adapt', 'Willing to learn', 'Distinct fact from fiction', 'Willing to imporvise', 'Ability to think further then a week', 'Kunnen programmeren', 'Verstand hebben van hoe een computer werkt', 'Goed mee kunnen gaan als er iets veranderd', 'Goed met andere mensen kunnen werken', 'Geduld', 'Probleemoplossend Inzicht', 'Passie voor je werk', 'Strevend', 'Actueel', 'Nieuwsgierig', 'Doorzettingsvermogen', 'Ambitieus', 'Hardwerkend', 'Geduld', 'Motivatie', 'Creativiteit', 'Werken in groespverband', 'Kunnen aanpassen aan nieuwe technologie', 'Bereid zijn om aan te passen aan nieuwe technologie', 'Meer kunnen dan alleen programmeren', 'kennis programmeren', 'flexibiliteit/adaptatie', 'kennis van computers', 'problem solving', 'creativiteit', 'Flexibel', 'Leergierig', 'Nieuwsgierig', 'Out of the box denken', 'Adaptable', 'Innovatief zijn', 'Probleemoplossend vermogen hebben', 'Sociale skills', 'Leervermogen', '-', 'Goede concentratie', 'Analystisch vermogen', 'Leergierig', 'Programmeren', 'Samenwerken', 'omgaan met verandering', 'samenwerken met een team/klanten', 'acceptatie dat je nooit alles weet', 'geduld en motivatie', 'een passie voor je vak']\n"
     ]
    }
   ],
   "source": [
    "all_skills = []\n",
    "\n",
    "with open('answers.csv') as csv_file:\n",
    "    reader = csv.reader(csv_file)\n",
    "    \n",
    "    # CSV files have headers. We're not really interested in them, so let's print them and leave it at that\n",
    "    headers = next(reader)\n",
    "    print(headers)\n",
    "    \n",
    "    # Save all individual answers in one big list\n",
    "    for row in reader:\n",
    "        all_skills.extend([row[1], row[2], row[3], row[4], row[5]])\n",
    "        \n",
    "    print(all_skills)"
   ]
  },
  {
   "cell_type": "markdown",
   "metadata": {},
   "source": [
    "## Tekstverwerking\n",
    "\n",
    "Hoewel er wat grenzen aan zitten, kunnen we redelijk eenvoudig alle antwoorden met elkaar vergelijken. Achtereenvolgens doen we:\n",
    "\n",
    "1. Alle antwoorden naar kleine letters (lowercase)\n",
    "2. Alle trailing whitespace verwijderen (`'   hallo  '` wordt `'hallo'`)\n",
    "3. Alle leestekens verwijderen: `!\"#$%&'()*+,-./:;<=>?@[\\]^_{|}~`\n",
    "\n",
    "Enkele haken en ogen zijn uitzonderlijk lange antwoorden, Engelse antwoorden, spreekwoorden of uitdrukkingen, en uiteraard spelfouten. We laten deze antwoorden wel in de dataset zitten, wellicht dat we daar later nog iets mee kunnen."
   ]
  },
  {
   "cell_type": "code",
   "execution_count": 4,
   "metadata": {
    "scrolled": true
   },
   "outputs": [
    {
     "name": "stdout",
     "output_type": "stream",
     "text": [
      "['kennis programmeertaal', 'werking van een computer', 'logisch nadenken', 'probleemoplossend denken', 'vooruitdenken', 'problem solving', 'drive om te blijven leren', 'drive om te innoveren', 'motivatie om in een veranderend veld te werken', 'passie', 'computational thinking', 'innovatie willen volgen leren', 'sociaal zijn', 'de wil om anderen te helpen', 'de will om nieuwe dingen uit te voeren', 'cognitivisme', 'analytisch', 'doorzettingsvermogen', 'flexibel', 'samenwerking', 'geduld', 'overzicht', 'problem solving', 'samenwerking', 'kennis vakgebied', 'programmeren', 'presenteren', 'logisch denken', 'samenwerken', 'werking van computer weten', 'probleem oplossend vermogen', 'logisch nadenken', 'flexibel werken altijd aanpasbaar', 'stress aan kunnen', 'engels praten schrijven lezen', 'je moet kunnen programmeren', 'creativiteit', 'kennis in je vakgebied', 'engels', 'doorzettingsvermogen als je je code niet aan de praat krijgt', 'programmer kennis', 'flexibel denken', 'type skills i guess', 'engels', 'social skills', 'flexibiliteit', 'meegaan met ict trends', 'kunnen samenwerken in groepsverband', 'genoeg sociale skills hebben om met bedrijven overweg te kunnen', 'mee zijn met de laatste programmeertaal', 'probleem oplossend denken', 'teamwork', 'communicatie', 'conceptueel werken', 'vooruit denken', 'logisch nadenken', 'flexiebel zijn', 'programmeertalen kunnen leren', 'sociaal zijn met bijv een klant', 'goed kunnen omgaan met een computer', 'samenwerkend', 'niet verlegen', 'inzet', 'durven', 'tijd veel tijd', 'programmeren', 'creatief zijn', 'computers begrijpen', 'innoveren', 'websites bouwen', 'aanpasbaarheid', 'mogelijkheid om snel te leren', 'logisch denkvermogenwiskundige vaardigheden', 'hardnekkig zijn en niet snel opgeven', 'goed met stress kunnen omgaan', 'flexibiliteit', 'kennis van programmeren', 'snel nieuwe programmeertalen leren', 'socialiseren', 'engels', 'motivation', 'mindset for innovation', 'adaptable', 'fast learner', 'teamwork', 'leergierigheid', 'analytisch denken', 'integriteit', 'projectmatig werken', 'flexibiliteit', 'issue solving', 'programming basics', 'communicatie', 'teamwork', 'genoeg slaap', 'ai programmeren', 'veel kennis van programmeertalen', 'mee gaan met de tijd', 'lang door kunnen werken', 'clean code kunnen schrijven', 'nieuwsgierigheid', 'kunnen omgaan met een computer', 'verschillende programeertalen', 'zich aan kunnen passen aan verandering', 'beheersing van de engelse taal', 'doorzettingsvermogen', 'prestatiegericht', 'flexibel', 'ruimdenkend', 'analytish', 'samenwerken', 'programmeren', 'in kunnen schatten wat waar nodig is', 'vernieuwen', 'applicaties in elkaar flansen met zo min mogelijk code', 'innovatief', 'doorzettingsvermogen', 'beheersen van verschillende programmeertalen', 'geduldig', 'creatief', 'flexibel', 'leergierig', 'goed doorzettingsvermogen', 'basis van programmeer concepten', 'logisch kunnen nadenken', 'snel leren', 'google goed gebruiken', 'logisch stapsgewijs denken', 'meerdere programmeertalen kunnen', 'snel type', 'engels', 'gezond verstand', 'basis rekenen', 'programmeertalen begrijpen', 'inzicht', 'werken in groepen', 'goed leesbare code schrijven', 'kunnen programmeren in verschillende programmeertalen dus niet specialiseren in één programmeertaal', 'hoe je dingen op het internet opzoekt stackoverflow etc', 'weten hoe kunstmatige intelligentie werkt en dit ook toepassen', 'werkprocessen analyseren', 'automatiseren van proccessen', 'zelfstandig leren', 'comuniceren', 'met computers om kunnen gaan', 'samenwerken', 'nieuwe kennis leren', 'open staan voor kritiek', 'aanpasbaar', 'vele codeer talen kennen en leren', 'aanpassings vermogen', 'verstand van de engelse taal', 'kennis van rekenenniet wiskunde', 'positieve mindset', 'doorzettingsvermogen', 'aanpasbaar', 'doorzetten', 'commente', 'zoeken', 'werken', 'de basis van het vak', 'basis van verschillende programmeertalen zodat als het ene bedrijf dit gebruikt en het andere bedrijf iets anders dat je er gemakkelijker in kan rollen', 'creativiteit', 'probleemgerichte oplossingen kunnen vinden en toepassen', 'met de tijd mee gaan niet blijven hangen want je gaat achterlopen', 'hardwerkend', 'doorzettingsvermogen', 'ambitieus', 'creatief', 'innovatief', 'onder druk kunnen werken', 'ervaring met verschillende talen', 'probleem oplossend kunnen denken', 'graag nieuwe dingen willen leren', 'weten hoe je iets moet aanpakken', 'programmeertaal goed beheerse en jezelf kunnen aanpassen aan andere programeertalen', 'goede communicatie houden met andere programeurs', 'blijven leren want de ict verandert snel', 'genieten van het feit dat je alles kan maken met een computer', 'goed zijn met google want je zult veel moeten opzoeken', 'ability to adapt', 'willing to learn', 'distinct fact from fiction', 'willing to imporvise', 'ability to think further then a week', 'kunnen programmeren', 'verstand hebben van hoe een computer werkt', 'goed mee kunnen gaan als er iets veranderd', 'goed met andere mensen kunnen werken', 'geduld', 'probleemoplossend inzicht', 'passie voor je werk', 'strevend', 'actueel', 'nieuwsgierig', 'doorzettingsvermogen', 'ambitieus', 'hardwerkend', 'geduld', 'motivatie', 'creativiteit', 'werken in groespverband', 'kunnen aanpassen aan nieuwe technologie', 'bereid zijn om aan te passen aan nieuwe technologie', 'meer kunnen dan alleen programmeren', 'kennis programmeren', 'flexibiliteitadaptatie', 'kennis van computers', 'problem solving', 'creativiteit', 'flexibel', 'leergierig', 'nieuwsgierig', 'out of the box denken', 'adaptable', 'innovatief zijn', 'probleemoplossend vermogen hebben', 'sociale skills', 'leervermogen', '', 'goede concentratie', 'analystisch vermogen', 'leergierig', 'programmeren', 'samenwerken', 'omgaan met verandering', 'samenwerken met een teamklanten', 'acceptatie dat je nooit alles weet', 'geduld en motivatie', 'een passie voor je vak']\n"
     ]
    }
   ],
   "source": [
    "# Onderstaande heet in python een \"list comprehension\". \n",
    "# Dit is een leesbaardere manier om list(map(lambda x: x.lower(), all_skills)) te schrijven. \n",
    "# Dat is vervolgens weer een geoptimaliseerde manier om een for-loop te schrijven.\n",
    "all_skills = [x.lower() for x in all_skills]\n",
    "all_skills = [x.strip() for x in all_skills]\n",
    "all_skills = [x.translate(str.maketrans('', '', string.punctuation)) for x in all_skills]\n",
    "\n",
    "print(all_skills)"
   ]
  },
  {
   "cell_type": "markdown",
   "metadata": {},
   "source": [
    "## Natural Language Processing\n",
    "\n",
    "En nu gaan we Spacy zijn werk laten doen. Zie comments in de code voor wat er exact gebeurt."
   ]
  },
  {
   "cell_type": "code",
   "execution_count": 21,
   "metadata": {},
   "outputs": [
    {
     "name": "stdout",
     "output_type": "stream",
     "text": [
      "{'kennis': 10, 'programmeertaal': 11, 'werking': 2, 'computer': 9, 'problem': 3, 'solving': 4, 'drive': 2, 'motivatie': 3, 'veld': 1, 'passie': 3, 'computational': 1, 'thinking': 1, 'innovatie': 1, 'wil': 1, 'will': 1, 'ding': 3, 'cognitivisme': 1, 'doorzettingsvermogen': 7, 'samenwerking': 2, 'geduld': 4, 'overzicht': 1, 'vakgebied': 2, 'programmer': 7, 'probleem': 3, 'vermogen': 4, 'stress': 2, 'engel': 5, 'creativiteit': 4, 'code': 4, 'praat': 1, 'type': 2, 'flexibiliteit': 3, 'trend': 1, 'groepsverband': 1, 'skills': 2, 'bedrijf': 3, 'overweg': 1, 'teamwork': 3, 'communicatie': 3, 'bijv': 1, 'klant': 1, 'inzet': 1, 'tijd': 4, 'innover': 1, 'website': 1, 'mogelijkheid': 1, 'vaardigheid': 1, 'motivation': 1, 'for': 1, 'innovation': 1, 'adaptable': 2, 'fast': 1, 'learner': 1, 'leergierigheid': 1, 'programming': 1, 'slaap': 1, 'clean': 1, 'nieuwsgierigheid': 1, 'programeertal': 2, 'verandering': 2, 'beheersing': 1, 'taal': 4, 'prestatiegericht': 1, 'analytish': 1, 'applicatie': 1, 'flans': 1, 'beheers': 1, 'basis': 4, 'programmeren': 1, 'concept': 1, 'stapsgewij': 1, 'verstand': 3, 'inzicht': 2, 'groep': 1, 'één': 1, 'internet': 1, 'intelligentie': 1, 'werkproces': 1, 'automatiser': 1, 'procces': 1, 'kritiek': 1, 'aanpasbaar': 2, 'coderen': 1, 'rekenenniet': 1, 'wiskunde': 1, 'mindset': 1, 'doorzett': 1, 'commente': 1, 'vak': 2, 'oplossing': 1, 'druk': 1, 'ervaring': 1, 'programeur': 1, 'ict': 1, 'geniet': 1, 'feit': 1, 'google': 1, 'ability': 2, 'to': 1, 'willing': 2, 'learn': 1, 'distinct': 1, 'fiction': 1, 'imporvise': 1, 'further': 1, 'mens': 1, 'werk': 1, 'actueel': 1, 'technologie': 2, 'flexibiliteitadaptatie': 1, 'concentratie': 1, 'teamklant': 1, 'acceptatie': 1}\n",
      "{'nadenken': 4, 'probleemoplossen': 3, 'denken': 9, 'vooruitdenken': 1, 'blijven': 3, 'leren': 11, 'innoveren': 1, 'werken': 12, 'willen': 2, 'volgen': 1, 'zijn': 10, 'helpen': 1, 'varen': 1, 'presenteren': 1, 'samenwerken': 7, 'weten': 4, 'oplossen': 1, 'kunnen': 27, 'praten': 1, 'schrijven': 3, 'lezen': 1, 'moeten': 3, 'programmeren': 4, 'krijgen': 1, 'guess': 1, 'meegaan': 1, 'hebben': 3, 'omgaan': 3, 'verliggen': 1, 'durven': 1, 'begrijpen': 2, 'bouwen': 1, 'opgeven': 1, 'socialiseren': 1, 'integriteit': 1, 'basics': 1, 'gaan': 5, 'passen': 2, 'ruimdenken': 1, 'schatten': 1, 'vernieuwen': 1, 'doorzettingsvermogen': 1, 'gebruiken': 2, 'rekenen': 1, 'specialiseren': 1, 'opzoeken': 2, 'stackoverflow': 1, 'toepassen': 2, 'analyseren': 1, 'comuniceren': 1, 'staan': 1, 'kennen': 1, 'zoeken': 1, 'rollen': 1, 'vinden': 1, 'hangen': 1, 'achterlopen': 1, 'aanpakken': 1, 'aanpassen': 2, 'houden': 1, 'veranderen': 2, 'maken': 1, 'zullen': 1, 'adapt': 1, 'think': 1, 'then': 1, 'streven': 1, 'groespverband': 1, 'leervermogen': 1}\n"
     ]
    }
   ],
   "source": [
    "nlp = spacy.load('nl_core_news_sm')\n",
    "\n",
    "nouns = {}\n",
    "verbs = {}\n",
    "\n",
    "for answer in all_skills:\n",
    "    # Let spacy do its magic\n",
    "    doc = nlp(answer)\n",
    "    \n",
    "    # Check every word of every answer\n",
    "    for token in doc:\n",
    "        # Write the lemma of the noun to our nouns dictionary and keep track of how often we've seen it\n",
    "        # (lemma: word that you would search for in a dictionary. So not \"mountains\" but \"mountain\")\n",
    "        if token.pos_ == 'NOUN':\n",
    "            if token.lemma_ in nouns:\n",
    "                nouns[token.lemma_] += 1\n",
    "            else:\n",
    "                nouns[token.lemma_] = 1\n",
    "                \n",
    "        # Do the same with verbs\n",
    "        if token.pos_ == 'VERB':\n",
    "            if token.lemma_ in verbs:\n",
    "                verbs[token.lemma_] += 1\n",
    "            else:\n",
    "                verbs[token.lemma_] = 1\n",
    "                \n",
    "print(nouns)\n",
    "print(verbs)"
   ]
  },
  {
   "cell_type": "markdown",
   "metadata": {},
   "source": [
    "## Resultaten\n",
    "\n",
    "En zoals we zien: resultaat is niet zo bijster interessant... Taal is onvoorstelbaar moeilijk om mee te werken! Kijk maar eens naar alle antwoorden en wat Spacy er hierboven van heeft gemaakt.\n",
    "\n",
    "## Conclusie\n",
    "\n",
    "Jullie vinden het belangrijk dat:\n",
    "- je programmeertalen kent\n",
    "- je kan programmerendat \n",
    "- je doorzettingsvermogen hebt\n",
    "- je wil werken\n",
    "- je wil blijven leren om kennis op te doen"
   ]
  },
  {
   "cell_type": "code",
   "execution_count": 19,
   "metadata": {},
   "outputs": [
    {
     "name": "stdout",
     "output_type": "stream",
     "text": [
      "[('programmeertaal', 11), ('kennis', 10), ('computer', 9), ('doorzettingsvermogen', 7), ('programmer', 7)]\n",
      "[('kunnen', 27), ('werken', 12), ('leren', 11), ('zijn', 10), ('denken', 9)]\n"
     ]
    }
   ],
   "source": [
    "sorted_nouns = sorted(nouns.items(), key=lambda x: x[1], reverse=True)\n",
    "print(sorted_nouns[:5])\n",
    "\n",
    "sorted_verbs = sorted(verbs.items(), key=lambda x: x[1], reverse=True)\n",
    "print(sorted_verbs[:5])"
   ]
  },
  {
   "cell_type": "markdown",
   "metadata": {},
   "source": [
    "# Lessons learned\n",
    "\n",
    "1. Platte tekst is erg lastig verwerken in een computerprogramma\n",
    "2. Waarschijnlijk zijn er belangrijke antwoorden weggevallen\n",
    "3. Jullie zijn erg technisch ingesteld"
   ]
  }
 ],
 "metadata": {
  "kernelspec": {
   "display_name": "Python 3",
   "language": "python",
   "name": "python3"
  },
  "language_info": {
   "codemirror_mode": {
    "name": "ipython",
    "version": 3
   },
   "file_extension": ".py",
   "mimetype": "text/x-python",
   "name": "python",
   "nbconvert_exporter": "python",
   "pygments_lexer": "ipython3",
   "version": "3.7.3"
  }
 },
 "nbformat": 4,
 "nbformat_minor": 2
}
